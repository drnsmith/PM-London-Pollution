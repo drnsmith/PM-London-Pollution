{
 "cells": [
  {
   "cell_type": "code",
   "execution_count": 6,
   "id": "62ab8dde",
   "metadata": {},
   "outputs": [
    {
     "data": {
      "text/html": [
       "<div>\n",
       "<style scoped>\n",
       "    .dataframe tbody tr th:only-of-type {\n",
       "        vertical-align: middle;\n",
       "    }\n",
       "\n",
       "    .dataframe tbody tr th {\n",
       "        vertical-align: top;\n",
       "    }\n",
       "\n",
       "    .dataframe thead th {\n",
       "        text-align: right;\n",
       "    }\n",
       "</style>\n",
       "<table border=\"1\" class=\"dataframe\">\n",
       "  <thead>\n",
       "    <tr style=\"text-align: right;\">\n",
       "      <th></th>\n",
       "      <th>LAEI 1km2 ID</th>\n",
       "      <th>GRID_ExactCut_ID</th>\n",
       "      <th>PM10</th>\n",
       "      <th>Easting_y</th>\n",
       "      <th>Northing_y</th>\n",
       "      <th>SO2</th>\n",
       "      <th>NMVOC</th>\n",
       "      <th>NH3</th>\n",
       "      <th>CO</th>\n",
       "      <th>CH4</th>\n",
       "      <th>N2O</th>\n",
       "      <th>Cd</th>\n",
       "      <th>Hg</th>\n",
       "      <th>Pb</th>\n",
       "      <th>BaP</th>\n",
       "      <th>PCB</th>\n",
       "      <th>HCl</th>\n",
       "      <th>PM10_lag1</th>\n",
       "      <th>PM10_lag2</th>\n",
       "    </tr>\n",
       "  </thead>\n",
       "  <tbody>\n",
       "    <tr>\n",
       "      <th>0</th>\n",
       "      <td>5910</td>\n",
       "      <td>1</td>\n",
       "      <td>0.130963</td>\n",
       "      <td>510500</td>\n",
       "      <td>203500</td>\n",
       "      <td>0.617954</td>\n",
       "      <td>0.151999</td>\n",
       "      <td>0.926393</td>\n",
       "      <td>1.598706</td>\n",
       "      <td>0.712821</td>\n",
       "      <td>0.564073</td>\n",
       "      <td>0.000011</td>\n",
       "      <td>0.000003</td>\n",
       "      <td>0.000052</td>\n",
       "      <td>1.299061e-06</td>\n",
       "      <td>1.373872e-06</td>\n",
       "      <td>0.0</td>\n",
       "      <td>0.130963</td>\n",
       "      <td>0.130963</td>\n",
       "    </tr>\n",
       "    <tr>\n",
       "      <th>1</th>\n",
       "      <td>5911</td>\n",
       "      <td>2</td>\n",
       "      <td>5.010572</td>\n",
       "      <td>511500</td>\n",
       "      <td>203500</td>\n",
       "      <td>0.619518</td>\n",
       "      <td>0.126560</td>\n",
       "      <td>1.185892</td>\n",
       "      <td>1.574760</td>\n",
       "      <td>0.261035</td>\n",
       "      <td>0.839242</td>\n",
       "      <td>0.000012</td>\n",
       "      <td>0.000003</td>\n",
       "      <td>0.000045</td>\n",
       "      <td>4.766745e-07</td>\n",
       "      <td>3.934605e-07</td>\n",
       "      <td>0.0</td>\n",
       "      <td>0.130963</td>\n",
       "      <td>0.130963</td>\n",
       "    </tr>\n",
       "    <tr>\n",
       "      <th>2</th>\n",
       "      <td>5912</td>\n",
       "      <td>3</td>\n",
       "      <td>2.889030</td>\n",
       "      <td>512500</td>\n",
       "      <td>203500</td>\n",
       "      <td>0.624707</td>\n",
       "      <td>0.205273</td>\n",
       "      <td>1.165951</td>\n",
       "      <td>1.540182</td>\n",
       "      <td>0.543780</td>\n",
       "      <td>0.785585</td>\n",
       "      <td>0.000012</td>\n",
       "      <td>0.000003</td>\n",
       "      <td>0.000049</td>\n",
       "      <td>7.196872e-07</td>\n",
       "      <td>9.018982e-07</td>\n",
       "      <td>0.0</td>\n",
       "      <td>5.010572</td>\n",
       "      <td>0.130963</td>\n",
       "    </tr>\n",
       "    <tr>\n",
       "      <th>3</th>\n",
       "      <td>5915</td>\n",
       "      <td>4</td>\n",
       "      <td>0.148034</td>\n",
       "      <td>515500</td>\n",
       "      <td>203500</td>\n",
       "      <td>0.604540</td>\n",
       "      <td>0.236015</td>\n",
       "      <td>0.797708</td>\n",
       "      <td>1.936277</td>\n",
       "      <td>1.384252</td>\n",
       "      <td>0.424445</td>\n",
       "      <td>0.000012</td>\n",
       "      <td>0.000002</td>\n",
       "      <td>0.000043</td>\n",
       "      <td>3.763843e-07</td>\n",
       "      <td>2.899396e-04</td>\n",
       "      <td>0.0</td>\n",
       "      <td>2.889030</td>\n",
       "      <td>5.010572</td>\n",
       "    </tr>\n",
       "    <tr>\n",
       "      <th>4</th>\n",
       "      <td>5916</td>\n",
       "      <td>5</td>\n",
       "      <td>0.134681</td>\n",
       "      <td>516500</td>\n",
       "      <td>203500</td>\n",
       "      <td>0.603073</td>\n",
       "      <td>0.215074</td>\n",
       "      <td>0.893011</td>\n",
       "      <td>1.741540</td>\n",
       "      <td>1.349165</td>\n",
       "      <td>0.449739</td>\n",
       "      <td>0.000012</td>\n",
       "      <td>0.000002</td>\n",
       "      <td>0.000042</td>\n",
       "      <td>2.543477e-07</td>\n",
       "      <td>1.003148e-04</td>\n",
       "      <td>0.0</td>\n",
       "      <td>0.148034</td>\n",
       "      <td>2.889030</td>\n",
       "    </tr>\n",
       "  </tbody>\n",
       "</table>\n",
       "</div>"
      ],
      "text/plain": [
       "   LAEI 1km2 ID  GRID_ExactCut_ID      PM10  Easting_y  Northing_y       SO2  \\\n",
       "0          5910                 1  0.130963     510500      203500  0.617954   \n",
       "1          5911                 2  5.010572     511500      203500  0.619518   \n",
       "2          5912                 3  2.889030     512500      203500  0.624707   \n",
       "3          5915                 4  0.148034     515500      203500  0.604540   \n",
       "4          5916                 5  0.134681     516500      203500  0.603073   \n",
       "\n",
       "      NMVOC       NH3        CO       CH4       N2O        Cd        Hg  \\\n",
       "0  0.151999  0.926393  1.598706  0.712821  0.564073  0.000011  0.000003   \n",
       "1  0.126560  1.185892  1.574760  0.261035  0.839242  0.000012  0.000003   \n",
       "2  0.205273  1.165951  1.540182  0.543780  0.785585  0.000012  0.000003   \n",
       "3  0.236015  0.797708  1.936277  1.384252  0.424445  0.000012  0.000002   \n",
       "4  0.215074  0.893011  1.741540  1.349165  0.449739  0.000012  0.000002   \n",
       "\n",
       "         Pb           BaP           PCB  HCl  PM10_lag1  PM10_lag2  \n",
       "0  0.000052  1.299061e-06  1.373872e-06  0.0   0.130963   0.130963  \n",
       "1  0.000045  4.766745e-07  3.934605e-07  0.0   0.130963   0.130963  \n",
       "2  0.000049  7.196872e-07  9.018982e-07  0.0   5.010572   0.130963  \n",
       "3  0.000043  3.763843e-07  2.899396e-04  0.0   2.889030   5.010572  \n",
       "4  0.000042  2.543477e-07  1.003148e-04  0.0   0.148034   2.889030  "
      ]
     },
     "execution_count": 6,
     "metadata": {},
     "output_type": "execute_result"
    }
   ],
   "source": [
    "import pandas as pd\n",
    "\n",
    "# Load the cleaned dataset 'PM10_final.xlsx'\n",
    "file_path = '...PM10_final.xlsx'\n",
    "data = pd.read_excel(file_path)\n",
    "\n",
    "# Display the first few rows of the DataFrame\n",
    "data.head()\n"
   ]
  },
  {
   "cell_type": "code",
   "execution_count": 12,
   "id": "c370dc0f",
   "metadata": {},
   "outputs": [
    {
     "name": "stdout",
     "output_type": "stream",
     "text": [
      "Number of observations: 3355\n"
     ]
    }
   ],
   "source": [
    "import pandas as pd\n",
    "\n",
    "# Estimate the number of observations in the dataset\n",
    "num_observations = data.shape[0]\n",
    "print(\"Number of observations:\", num_observations)\n"
   ]
  },
  {
   "cell_type": "markdown",
   "id": "2b9f229d",
   "metadata": {},
   "source": [
    "Simple Regression"
   ]
  },
  {
   "cell_type": "code",
   "execution_count": 8,
   "id": "d122bbd9",
   "metadata": {},
   "outputs": [
    {
     "name": "stdout",
     "output_type": "stream",
     "text": [
      "                      Model      RMSE\n",
      "0  Simple Linear Regression  1.402014\n"
     ]
    }
   ],
   "source": [
    "import pandas as pd\n",
    "from sklearn.model_selection import train_test_split\n",
    "from sklearn.linear_model import LinearRegression\n",
    "from sklearn.metrics import mean_squared_error\n",
    "import numpy as np\n",
    "\n",
    "\n",
    "# Preprocess the data \n",
    "\n",
    "# Split the data into features (X) and target (y), and further into training and testing sets\n",
    "X = data.drop('PM10', axis=1)  # 'PM10' is the target column\n",
    "y = data['PM10']  # 'PM10' is the target column\n",
    "X_train, X_test, y_train, y_test = train_test_split(X, y, test_size=0.2, random_state=42)\n",
    "\n",
    "# Initialize the model\n",
    "lr_model = LinearRegression()\n",
    "\n",
    "# Train the model\n",
    "lr_model.fit(X_train, y_train)\n",
    "\n",
    "# Make predictions\n",
    "y_pred = lr_model.predict(X_test)\n",
    "\n",
    "# Evaluate the model\n",
    "mse = mean_squared_error(y_test, y_pred)\n",
    "rmse = np.sqrt(mse)\n",
    "\n",
    "# Create a DataFrame to store the results\n",
    "results_df = pd.DataFrame({\n",
    "    'Model': ['Simple Linear Regression'],\n",
    "    'RMSE': [rmse]\n",
    "})\n",
    "\n",
    "# Print the results table\n",
    "print(results_df)\n",
    "\n"
   ]
  },
  {
   "cell_type": "code",
   "execution_count": 10,
   "id": "004c2de8",
   "metadata": {},
   "outputs": [
    {
     "name": "stdout",
     "output_type": "stream",
     "text": [
      "LAEI 1km2 ID        0\n",
      "GRID_ExactCut_ID    0\n",
      "PM10                0\n",
      "Easting_y           0\n",
      "Northing_y          0\n",
      "SO2                 0\n",
      "NMVOC               0\n",
      "NH3                 0\n",
      "CO                  0\n",
      "CH4                 0\n",
      "N2O                 0\n",
      "Cd                  0\n",
      "Hg                  0\n",
      "Pb                  0\n",
      "BaP                 0\n",
      "PCB                 0\n",
      "HCl                 0\n",
      "PM10_lag1           0\n",
      "PM10_lag2           0\n",
      "dtype: int64\n"
     ]
    }
   ],
   "source": [
    "import pandas as pd\n",
    "\n",
    "\n",
    "# Check for missing values in each column\n",
    "missing_values = data.isnull().sum()\n",
    "\n",
    "# Print the count of missing values for each column\n",
    "print(missing_values)\n"
   ]
  },
  {
   "cell_type": "markdown",
   "id": "3f1e5eef",
   "metadata": {},
   "source": [
    "Ridge/Lasso Regression"
   ]
  },
  {
   "cell_type": "code",
   "execution_count": 15,
   "id": "dd5137d9",
   "metadata": {},
   "outputs": [
    {
     "name": "stdout",
     "output_type": "stream",
     "text": [
      "                         Model      RMSE\n",
      "0     Simple Linear Regression  1.402014\n",
      "1      Random Forest Regressor  1.192053\n",
      "2  Gradient Boosting Regressor  1.213323\n",
      "3             Ridge Regression  1.524223\n",
      "4             Lasso Regression  1.522668\n"
     ]
    }
   ],
   "source": [
    "import pandas as pd\n",
    "from sklearn.model_selection import train_test_split\n",
    "from sklearn.linear_model import LinearRegression, Ridge, Lasso\n",
    "from sklearn.ensemble import RandomForestRegressor, GradientBoostingRegressor\n",
    "from sklearn.metrics import mean_squared_error\n",
    "import numpy as np\n",
    "\n",
    "\n",
    "# Split the data into features (X) and target (y), and further into training and testing sets\n",
    "X = data.drop('PM10', axis=1)  # 'PM10' is the target column\n",
    "y = data['PM10']  # 'PM10' is the target column\n",
    "X_train, X_test, y_train, y_test = train_test_split(X, y, test_size=0.2, random_state=42)\n",
    "\n",
    "# Initialize the models\n",
    "lr_model = LinearRegression()\n",
    "rf_model = RandomForestRegressor(random_state=42)\n",
    "gb_model = GradientBoostingRegressor(random_state=42)\n",
    "ridge_model = Ridge(alpha=1.0, random_state=42)\n",
    "lasso_model = Lasso(alpha=0.1, random_state=42)\n",
    "\n",
    "# Train the models\n",
    "lr_model.fit(X_train, y_train)\n",
    "rf_model.fit(X_train, y_train)\n",
    "gb_model.fit(X_train, y_train)\n",
    "ridge_model.fit(X_train, y_train)\n",
    "lasso_model.fit(X_train, y_train)\n",
    "\n",
    "# Make predictions\n",
    "lr_predictions = lr_model.predict(X_test)\n",
    "rf_predictions = rf_model.predict(X_test)\n",
    "gb_predictions = gb_model.predict(X_test)\n",
    "ridge_predictions = ridge_model.predict(X_test)\n",
    "lasso_predictions = lasso_model.predict(X_test)\n",
    "\n",
    "# Calculate RMSE\n",
    "lr_rmse = np.sqrt(mean_squared_error(y_test, lr_predictions))\n",
    "rf_rmse = np.sqrt(mean_squared_error(y_test, rf_predictions))\n",
    "gb_rmse = np.sqrt(mean_squared_error(y_test, gb_predictions))\n",
    "ridge_rmse = np.sqrt(mean_squared_error(y_test, ridge_predictions))\n",
    "lasso_rmse = np.sqrt(mean_squared_error(y_test, lasso_predictions))\n",
    "\n",
    "# Create a DataFrame to store the results\n",
    "results_df = pd.DataFrame({\n",
    "    'Model': ['Simple Linear Regression', 'Random Forest Regressor', 'Gradient Boosting Regressor', 'Ridge Regression', 'Lasso Regression'],\n",
    "    'RMSE': [lr_rmse, rf_rmse, gb_rmse, ridge_rmse, lasso_rmse]\n",
    "})\n",
    "\n",
    "# Print the results table\n",
    "print(results_df)\n"
   ]
  },
  {
   "cell_type": "markdown",
   "id": "030ebb8f",
   "metadata": {},
   "source": [
    "The RMSE is a measure of how well the model is able to predict the target variable, with lower values indicating better performance.\n",
    "\n",
    "Simple Linear Regression: 1.402 is relatively good compared to some of the more complex models.\n",
    "Random Forest Regressor performed the best among all with an RMSE of approximately 1.192. It seems to handle the complexity of the dataset well.\n",
    "Gradient Boosting Regressor also performed well with an RMSE of approximately 1.213, which is close to that of the Random Forest Regressor.\n",
    "Ridge Regression: 1.524, which is higher compared to the other models, indicating it might not be the best fit for this dataset.\n",
    "Lasso Regression has a similar RMSE to Ridge Regression, approximately 1.523, indicating similar performance.\n",
    "\n",
    "Based on these results, the Random Forest Regressor and Gradient Boosting Regressor are the top-performing models for this dataset. "
   ]
  },
  {
   "cell_type": "markdown",
   "id": "6edffe84",
   "metadata": {},
   "source": [
    "XGBoost Regressor"
   ]
  },
  {
   "cell_type": "code",
   "execution_count": 17,
   "id": "3249e10c",
   "metadata": {
    "scrolled": true
   },
   "outputs": [
    {
     "name": "stdout",
     "output_type": "stream",
     "text": [
      "Collecting xgboost\n",
      "  Downloading xgboost-2.0.0-py3-none-macosx_10_15_x86_64.macosx_11_0_x86_64.macosx_12_0_x86_64.whl (2.2 MB)\n",
      "\u001b[2K     \u001b[90m━━━━━━━━━━━━━━━━━━━━━━━━━━━━━━━━━━━━━━━━\u001b[0m \u001b[32m2.2/2.2 MB\u001b[0m \u001b[31m2.4 MB/s\u001b[0m eta \u001b[36m0:00:00\u001b[0m00:01\u001b[0m00:01\u001b[0m\n",
      "\u001b[?25hRequirement already satisfied: numpy in ./opt/anaconda3/lib/python3.9/site-packages (from xgboost) (1.22.3)\n",
      "Requirement already satisfied: scipy in ./opt/anaconda3/lib/python3.9/site-packages (from xgboost) (1.10.1)\n",
      "Installing collected packages: xgboost\n",
      "Successfully installed xgboost-2.0.0\n",
      "Note: you may need to restart the kernel to use updated packages.\n"
     ]
    }
   ],
   "source": [
    "pip install xgboost\n"
   ]
  },
  {
   "cell_type": "code",
   "execution_count": 6,
   "id": "ed4dd3fb",
   "metadata": {},
   "outputs": [
    {
     "name": "stdout",
     "output_type": "stream",
     "text": [
      "               Model      RMSE\n",
      "0  XGBoost Regressor  1.236798\n"
     ]
    },
    {
     "name": "stderr",
     "output_type": "stream",
     "text": [
      "/var/folders/33/h5vv9bpj5pn1qwm0r096syj40000gn/T/ipykernel_63703/935834499.py:35: FutureWarning: The frame.append method is deprecated and will be removed from pandas in a future version. Use pandas.concat instead.\n",
      "  results_df = results_df.append({\n"
     ]
    }
   ],
   "source": [
    "import pandas as pd\n",
    "import xgboost as xgb\n",
    "import numpy as np\n",
    "from sklearn.model_selection import train_test_split\n",
    "from sklearn.metrics import mean_squared_error\n",
    "\n",
    "\n",
    "# Split the data into features (X) and target (y), and further into training and testing sets\n",
    "X = data.drop('PM10', axis=1)  # 'PM10' is the target column\n",
    "y = data['PM10']  # 'PM10' is the target column\n",
    "X_train, X_test, y_train, y_test = train_test_split(X, y, test_size=0.2, random_state=42)\n",
    "\n",
    "# Initialise the XGBoost Regressor model\n",
    "xgb_model = xgb.XGBRegressor(objective ='reg:squarederror', random_state=42)\n",
    "\n",
    "# Train the model\n",
    "xgb_model.fit(X_train, y_train)\n",
    "\n",
    "# Make predictions\n",
    "xgb_predictions = xgb_model.predict(X_test)\n",
    "\n",
    "# Calculate RMSE\n",
    "xgb_rmse = np.sqrt(mean_squared_error(y_test, xgb_predictions))\n",
    "\n",
    "# Check if results_df is defined, if not, define it\n",
    "try:\n",
    "    results_df\n",
    "except NameError:\n",
    "    results_df = pd.DataFrame(columns=['Model', 'RMSE'])\n",
    "\n",
    "# Append the results to the results DataFrame\n",
    "results_df = results_df.append({\n",
    "    'Model': 'XGBoost Regressor',\n",
    "    'RMSE': xgb_rmse\n",
    "}, ignore_index=True)\n",
    "\n",
    "# Print the results table\n",
    "print(results_df)\n"
   ]
  },
  {
   "cell_type": "code",
   "execution_count": null,
   "id": "8f9cb396",
   "metadata": {},
   "outputs": [],
   "source": [
    "Neural Network Regressor"
   ]
  },
  {
   "cell_type": "code",
   "execution_count": 7,
   "id": "31724b6a",
   "metadata": {},
   "outputs": [
    {
     "name": "stdout",
     "output_type": "stream",
     "text": [
      "                      Model       RMSE\n",
      "0         XGBoost Regressor   1.236798\n",
      "1  Neural Network Regressor  12.203321\n"
     ]
    },
    {
     "name": "stderr",
     "output_type": "stream",
     "text": [
      "/var/folders/33/h5vv9bpj5pn1qwm0r096syj40000gn/T/ipykernel_63703/2276072290.py:16: FutureWarning: The frame.append method is deprecated and will be removed from pandas in a future version. Use pandas.concat instead.\n",
      "  results_df = results_df.append({\n"
     ]
    }
   ],
   "source": [
    "from sklearn.neural_network import MLPRegressor\n",
    "\n",
    "# Initialise the Neural Network Regressor model\n",
    "nn_model = MLPRegressor(hidden_layer_sizes=(100,), max_iter=1000, random_state=42)\n",
    "\n",
    "# Train the model\n",
    "nn_model.fit(X_train, y_train)\n",
    "\n",
    "# Make predictions\n",
    "nn_predictions = nn_model.predict(X_test)\n",
    "\n",
    "# Calculate RMSE\n",
    "nn_rmse = np.sqrt(mean_squared_error(y_test, nn_predictions))\n",
    "\n",
    "# Append the results to the results DataFrame\n",
    "results_df = results_df.append({\n",
    "    'Model': 'Neural Network Regressor',\n",
    "    'RMSE': nn_rmse\n",
    "}, ignore_index=True)\n",
    "# Print the results table\n",
    "print(results_df)"
   ]
  },
  {
   "cell_type": "markdown",
   "id": "d4efbb05",
   "metadata": {},
   "source": [
    "The approach below/fin-tuning should help in addressing the high RMSE of the NN model by tuning its architecture, hyperparameters, scaling the features, and ensuring convergence."
   ]
  },
  {
   "cell_type": "code",
   "execution_count": 9,
   "id": "94b8c40b",
   "metadata": {},
   "outputs": [
    {
     "name": "stdout",
     "output_type": "stream",
     "text": [
      "                      Model      RMSE\n",
      "0         XGBoost Regressor  1.236798\n",
      "1  Neural Network Regressor  1.581120\n",
      "2  Neural Network Regressor  1.581120\n",
      "3  Neural Network Regressor  1.581120\n"
     ]
    },
    {
     "name": "stderr",
     "output_type": "stream",
     "text": [
      "/var/folders/33/h5vv9bpj5pn1qwm0r096syj40000gn/T/ipykernel_63703/4219133257.py:33: FutureWarning: The frame.append method is deprecated and will be removed from pandas in a future version. Use pandas.concat instead.\n",
      "  results_df = results_df.append({\n"
     ]
    }
   ],
   "source": [
    "from sklearn.preprocessing import StandardScaler\n",
    "from sklearn.model_selection import GridSearchCV\n",
    "from sklearn.neural_network import MLPRegressor\n",
    "from sklearn.metrics import mean_squared_error\n",
    "\n",
    "# Scale the features\n",
    "scaler = StandardScaler()\n",
    "X_train_scaled = scaler.fit_transform(X_train)\n",
    "X_test_scaled = scaler.transform(X_test)\n",
    "\n",
    "# Hyperparameter grid\n",
    "param_grid = {\n",
    "    'hidden_layer_sizes': [(100,), (100, 50)],\n",
    "    'activation': ['relu', 'tanh'],\n",
    "    'learning_rate_init': [0.001, 0.01],\n",
    "}\n",
    "\n",
    "# Initialise the Neural Network Regressor model\n",
    "nn_model = MLPRegressor(max_iter=2000, random_state=42)\n",
    "\n",
    "# Perform Grid Search\n",
    "grid_search = GridSearchCV(nn_model, param_grid, cv=5, scoring='neg_mean_squared_error')\n",
    "grid_search.fit(X_train_scaled, y_train)\n",
    "best_nn_model = grid_search.best_estimator_\n",
    "\n",
    "# Make predictions using the best model\n",
    "nn_predictions = best_nn_model.predict(X_test_scaled)\n",
    "\n",
    "# Calculate RMSE\n",
    "nn_rmse = np.sqrt(mean_squared_error(y_test, nn_predictions))\n",
    "\n",
    "# Append the results to the results DataFrame\n",
    "results_df = results_df.append({\n",
    "    'Model': 'Neural Network Regressor',\n",
    "    'RMSE': nn_rmse\n",
    "}, ignore_index=True)\n",
    "\n",
    "# Check if the Neural Network Regressor is already in the results DataFrame\n",
    "mask = results_df['Model'] == 'Neural Network Regressor'\n",
    "\n",
    "# If it is, overwrite the results, else append a new row\n",
    "if mask.any():\n",
    "    results_df.loc[mask, 'RMSE'] = nn_rmse\n",
    "else:\n",
    "    results_df = results_df.append({\n",
    "        'Model': 'Neural Network Regressor',\n",
    "        'RMSE': nn_rmse\n",
    "    }, ignore_index=True)\n",
    "\n",
    "    # Print the results table\n",
    "print(results_df)\n"
   ]
  },
  {
   "cell_type": "code",
   "execution_count": null,
   "id": "40889bd3",
   "metadata": {},
   "outputs": [],
   "source": []
  },
  {
   "cell_type": "markdown",
   "id": "6095aead",
   "metadata": {},
   "source": [
    "To understand better if our models performed well, we next conduct Dependent Varaible Analysis"
   ]
  },
  {
   "cell_type": "code",
   "execution_count": 10,
   "id": "58a4d0eb",
   "metadata": {},
   "outputs": [
    {
     "name": "stdout",
     "output_type": "stream",
     "text": [
      "count    3355.000000\n",
      "mean        1.761000\n",
      "std         1.908657\n",
      "min         0.000008\n",
      "25%         0.298265\n",
      "50%         1.175279\n",
      "75%         2.498567\n",
      "max        17.280088\n",
      "Name: PM10, dtype: float64\n"
     ]
    }
   ],
   "source": [
    "print(y.describe())\n"
   ]
  },
  {
   "cell_type": "code",
   "execution_count": 11,
   "id": "04bf12dc",
   "metadata": {},
   "outputs": [
    {
     "data": {
      "image/png": "[encoded data removed]",
      "text/plain": [
       "<Figure size 640x480 with 1 Axes>"
      ]
     },
     "metadata": {},
     "output_type": "display_data"
    }
   ],
   "source": [
    "import matplotlib.pyplot as plt\n",
    "plt.hist(y, bins=30, alpha=0.75)\n",
    "plt.xlabel('PM10 Levels')\n",
    "plt.ylabel('Frequency')\n",
    "plt.title('Histogram of PM10 Pollution Levels')\n",
    "plt.show()\n"
   ]
  },
  {
   "cell_type": "code",
   "execution_count": 12,
   "id": "5da49e21",
   "metadata": {},
   "outputs": [
    {
     "name": "stdout",
     "output_type": "stream",
     "text": [
      "(8.06e-06, 0.596]    1178\n",
      "(0.596, 1.192]        510\n",
      "(1.192, 1.788]        436\n",
      "(1.788, 2.383]        339\n",
      "(2.383, 2.979]        216\n",
      "(2.979, 3.575]        174\n",
      "(3.575, 4.171]        107\n",
      "(4.171, 4.767]        116\n",
      "(4.767, 5.363]         88\n",
      "(5.363, 5.959]         52\n",
      "(5.959, 6.555]         46\n",
      "(6.555, 7.15]          30\n",
      "(7.15, 7.746]          19\n",
      "(7.746, 8.342]         14\n",
      "(8.342, 8.938]          7\n",
      "(8.938, 9.534]          6\n",
      "(9.534, 10.13]          5\n",
      "(10.13, 10.726]         4\n",
      "(10.726, 11.321]        0\n",
      "(11.321, 11.917]        1\n",
      "(11.917, 12.513]        0\n",
      "(12.513, 13.109]        3\n",
      "(13.109, 13.705]        0\n",
      "(13.705, 14.301]        1\n",
      "(14.301, 14.897]        1\n",
      "(14.897, 15.492]        0\n",
      "(15.492, 16.088]        0\n",
      "(16.088, 16.684]        0\n",
      "(16.684, 17.28]         1\n",
      "Name: PM10, dtype: int64\n"
     ]
    }
   ],
   "source": [
    "# Create bins for the histogram\n",
    "bins = np.linspace(min(y), max(y), 30) # Adjust the number 30 to change the number of bins\n",
    "\n",
    "# Use the `cut` function to segment and sort the data values into bins\n",
    "categories = pd.cut(y, bins)\n",
    "\n",
    "# Create a Frequency Table\n",
    "frequency_table = pd.value_counts(categories, sort=False)\n",
    "\n",
    "print(frequency_table)\n"
   ]
  },
  {
   "cell_type": "code",
   "execution_count": 15,
   "id": "613f5dd9",
   "metadata": {},
   "outputs": [
    {
     "data": {
      "image/png": "[encoded data removed]",
      "text/plain": [
       "<Figure size 1000x600 with 1 Axes>"
      ]
     },
     "metadata": {},
     "output_type": "display_data"
    }
   ],
   "source": [
    "import matplotlib.pyplot as plt\n",
    "\n",
    "# Define the bins and frequencies\n",
    "bins = [\"(8.06e-06, 0.596]\", \"(0.596, 1.192]\", \"(1.192, 1.788]\", \"(1.788, 2.383]\", \"(2.383, 2.979]\", \n",
    "        \"(2.979, 3.575]\", \"(3.575, 4.171]\", \"(4.171, 4.767]\", \"(4.767, 5.363]\", \"(5.363, 5.959]\",\n",
    "        \"(5.959, 6.555]\", \"(6.555, 7.15]\", \"(7.15, 7.746]\", \"(7.746, 8.342]\", \"(8.342, 8.938]\",\n",
    "        \"(8.938, 9.534]\", \"(9.534, 10.13]\", \"(10.13, 10.726]\", \"(10.726, 11.321]\", \"(11.321, 11.917]\",\n",
    "        \"(11.917, 12.513]\", \"(12.513, 13.109]\", \"(13.109, 13.705]\", \"(13.705, 14.301]\", \"(14.301, 14.897]\",\n",
    "        \"(14.897, 15.492]\", \"(15.492, 16.088]\", \"(16.088, 16.684]\", \"(16.684, 17.28]\"]\n",
    "frequencies = [1178, 510, 436, 339, 216, 174, 107, 116, 88, 52, 46, 30, 19, 14, 7, 6, 5, 4, 0, 1, 0, 3, 0, 1, 1, 0, 0, 0, 1]\n",
    "\n",
    "# Create the histogram\n",
    "plt.figure(figsize=(10, 6))\n",
    "plt.bar(bins, frequencies)\n",
    "plt.xlabel('Pollution Levels (µg/m³)')\n",
    "plt.ylabel('Frequency')\n",
    "plt.title('Distribution of PM10 Pollution Levels')\n",
    "plt.xticks(rotation=45)\n",
    "plt.tight_layout()\n",
    "plt.show()\n"
   ]
  },
  {
   "cell_type": "code",
   "execution_count": 19,
   "id": "5afbafd1",
   "metadata": {},
   "outputs": [
    {
     "data": {
      "image/png": "[encoded data removed]",
      "text/plain": [
       "<Figure size 640x480 with 1 Axes>"
      ]
     },
     "metadata": {},
     "output_type": "display_data"
    }
   ],
   "source": [
    "plt.boxplot(y)\n",
    "plt.ylabel('PM10 Levels')\n",
    "plt.title('Boxplot of PM10 Pollution Levels')\n",
    "plt.show()\n"
   ]
  },
  {
   "cell_type": "markdown",
   "id": "f8731b95",
   "metadata": {},
   "source": [
    "We seem to have lots of outliers and, therefore, need to do some transformation of the PM10 "
   ]
  },
  {
   "cell_type": "code",
   "execution_count": 20,
   "id": "81ee5bba",
   "metadata": {},
   "outputs": [
    {
     "data": {
      "image/png": "[encoded data removed]",
      "text/plain": [
       "<Figure size 640x480 with 1 Axes>"
      ]
     },
     "metadata": {},
     "output_type": "display_data"
    }
   ],
   "source": [
    "import numpy as np\n",
    "import matplotlib.pyplot as plt\n",
    "\n",
    "# Assuming y contains the PM10 levels\n",
    "y_log = np.log1p(y)\n",
    "\n",
    "# Plotting the boxplot of the transformed data\n",
    "plt.boxplot(y_log)\n",
    "plt.ylabel('Transformed PM10 Levels (log)')\n",
    "plt.title('Boxplot of Log-Transformed PM10 Pollution Levels')\n",
    "plt.show()\n"
   ]
  },
  {
   "cell_type": "code",
   "execution_count": 22,
   "id": "96299938",
   "metadata": {},
   "outputs": [
    {
     "data": {
      "image/png": "[encoded data removed]",
      "text/plain": [
       "<Figure size 640x480 with 1 Axes>"
      ]
     },
     "metadata": {},
     "output_type": "display_data"
    }
   ],
   "source": [
    "import numpy as np\n",
    "import matplotlib.pyplot as plt\n",
    "\n",
    "# Assuming y contains the PM10 levels\n",
    "y_sqrt = np.sqrt(y)\n",
    "\n",
    "# Plotting the boxplot of the transformed data\n",
    "plt.boxplot(y_sqrt)\n",
    "plt.ylabel('Transformed PM10 Levels (sqrt)')\n",
    "plt.title('Boxplot of Square Root Transformed PM10 Pollution Levels')\n",
    "plt.show()\n",
    "\n",
    "\n"
   ]
  },
  {
   "cell_type": "markdown",
   "id": "fb417739",
   "metadata": {},
   "source": [
    "The Box-Cox transformation is a parametrised transformation that aims to transform the data into a normal shape"
   ]
  },
  {
   "cell_type": "code",
   "execution_count": 25,
   "id": "0fbdb804",
   "metadata": {
    "scrolled": true
   },
   "outputs": [
    {
     "data": {
      "image/png": "[encoded data removed]",
      "text/plain": [
       "<Figure size 640x480 with 1 Axes>"
      ]
     },
     "metadata": {},
     "output_type": "display_data"
    }
   ],
   "source": [
    "import numpy as np\n",
    "import matplotlib.pyplot as plt\n",
    "from scipy.stats import boxcox\n",
    "\n",
    "# Assuming y contains the PM10 levels\n",
    "# Adding 1 to all elements of y to ensure all values are positive\n",
    "y_boxcox, _ = boxcox(y + 1)\n",
    "\n",
    "# Plotting the boxplot of the transformed data\n",
    "plt.boxplot(y_boxcox)\n",
    "plt.ylabel('Transformed PM10 Levels (Box-Cox)')\n",
    "plt.title('Boxplot of Box-Cox Transformed PM10 Pollution Levels')\n",
    "plt.show()\n"
   ]
  },
  {
   "cell_type": "code",
   "execution_count": 26,
   "id": "e02956c8",
   "metadata": {},
   "outputs": [
    {
     "name": "stdout",
     "output_type": "stream",
     "text": [
      "       Original PM10 Levels  Box-Cox Transformed PM10 Levels\n",
      "count           3355.000000                      3355.000000\n",
      "mean               1.761000                         0.654326\n",
      "std                1.908657                         0.430783\n",
      "min                0.000008                         0.000008\n",
      "25%                0.298265                         0.248360\n",
      "50%                1.175279                         0.671816\n",
      "75%                2.498567                         0.993971\n",
      "max               17.280088                         1.750080\n"
     ]
    }
   ],
   "source": [
    "import pandas as pd\n",
    "\n",
    "# Assuming y contains the original PM10 levels\n",
    "# y_boxcox contains the Box-Cox transformed PM10 levels\n",
    "\n",
    "# Creating a DataFrame\n",
    "df = pd.DataFrame({\n",
    "    'Original PM10 Levels': y,\n",
    "    'Box-Cox Transformed PM10 Levels': y_boxcox\n",
    "})\n",
    "\n",
    "# Displaying descriptive statistics for original and transformed data\n",
    "print(df.describe())\n",
    "\n"
   ]
  },
  {
   "cell_type": "code",
   "execution_count": 29,
   "id": "76f958d1",
   "metadata": {},
   "outputs": [
    {
     "name": "stdout",
     "output_type": "stream",
     "text": [
      "Number of Outliers: 0\n",
      "Outliers: []\n"
     ]
    }
   ],
   "source": [
    "from scipy.stats import zscore\n",
    "\n",
    "# Calculate z-scores\n",
    "z_scores = zscore(y_boxcox)\n",
    "\n",
    "# Determine the outliers\n",
    "outliers = y_boxcox[np.abs(z_scores) > 3]\n",
    "\n",
    "print(\"Number of Outliers:\", len(outliers))\n",
    "print(\"Outliers:\", outliers)\n"
   ]
  },
  {
   "cell_type": "code",
   "execution_count": 31,
   "id": "f4789536",
   "metadata": {},
   "outputs": [
    {
     "name": "stdout",
     "output_type": "stream",
     "text": [
      "Number of Outliers: 0\n",
      "Outliers: []\n"
     ]
    }
   ],
   "source": [
    "import numpy as np\n",
    "\n",
    "# Calculate Q1, Q2, and IQR\n",
    "q1 = np.percentile(y_boxcox, 25)\n",
    "q3 = np.percentile(y_boxcox, 75)\n",
    "iqr = q3 - q1\n",
    "\n",
    "# Determine the outliers\n",
    "lower_bound = q1 - 1.5 * iqr\n",
    "upper_bound = q3 + 1.5 * iqr\n",
    "outliers = y_boxcox[(y_boxcox < lower_bound) | (y_boxcox> upper_bound)]\n",
    "\n",
    "print(\"Number of Outliers:\", len(outliers))\n",
    "print(\"Outliers:\", outliers)\n"
   ]
  },
  {
   "cell_type": "code",
   "execution_count": null,
   "id": "3ff63f39",
   "metadata": {},
   "outputs": [],
   "source": []
  },
  {
   "cell_type": "markdown",
   "id": "f81f650e",
   "metadata": {},
   "source": [
    "Updating the dataset"
   ]
  },
  {
   "cell_type": "code",
   "execution_count": 38,
   "id": "297317cc",
   "metadata": {},
   "outputs": [],
   "source": [
    "import pandas as pd\n",
    "from scipy.stats import boxcox\n",
    "\n",
    "# Add the transformed column to the DataFrame\n",
    "df['PM10_cox'] = boxcox(df['PM10'] + 1)[0]  # Adjust as necessary based on your actual column name and transformation\n",
    "\n",
    "# Drop the original PM10 column\n",
    "df.drop('PM10', axis=1, inplace=True)\n",
    "\n",
    "# Save the updated DataFrame back to Excel\n",
    "df.to_excel('.../PM10_final_updated.xlsx', index=False)"
   ]
  },
  {
   "cell_type": "code",
   "execution_count": 39,
   "id": "3fdd775d",
   "metadata": {},
   "outputs": [
    {
     "name": "stdout",
     "output_type": "stream",
     "text": [
      "Index(['LAEI 1km2 ID', 'GRID_ExactCut_ID', 'Easting_y', 'Northing_y', 'SO2',\n",
      "       'NMVOC', 'NH3', 'CO', 'CH4', 'N2O', 'Cd', 'Hg', 'Pb', 'BaP', 'PCB',\n",
      "       'HCl', 'PM10_lag1', 'PM10_lag2', 'PM10_cox'],\n",
      "      dtype='object')\n"
     ]
    }
   ],
   "source": [
    "# Print the columns of the updated DataFrame\n",
    "print(df.columns)\n"
   ]
  },
  {
   "cell_type": "code",
   "execution_count": 41,
   "id": "db024f90",
   "metadata": {},
   "outputs": [
    {
     "name": "stdout",
     "output_type": "stream",
     "text": [
      "Index(['LAEI 1km2 ID', 'GRID_ExactCut_ID', 'Easting_y', 'Northing_y', 'SO2',\n",
      "       'NMVOC', 'NH3', 'CO', 'CH4', 'N2O', 'Cd', 'Hg', 'Pb', 'BaP', 'PCB',\n",
      "       'HCl', 'PM10_cox', 'PM10_cox_lag1', 'PM10_cox_lag2'],\n",
      "      dtype='object')\n"
     ]
    }
   ],
   "source": [
    "import pandas as pd\n",
    "\n",
    "\n",
    "# Drop the 'PM10_lag1' and 'PM10_lag2' columns\n",
    "df.drop(['PM10_lag1', 'PM10_lag2'], axis=1, inplace=True)\n",
    "\n",
    "# Create lagged versions of 'PM10_cox'\n",
    "df['PM10_cox_lag1'] = df['PM10_cox'].shift(1)  # Lag by 1 period\n",
    "df['PM10_cox_lag2'] = df['PM10_cox'].shift(2)  # Lag by 2 periods\n",
    "\n",
    "# Fill any NaN values generated due to shifting\n",
    "df.fillna(method='bfill', inplace=True)\n",
    "\n",
    "# Save the updated DataFrame back to Excel\n",
    "updated_file_path = '/Users/natashasmith/Desktop/PM10_final_updated.xlsx'\n",
    "df.to_excel(updated_file_path, index=False)\n",
    "\n",
    "# Check the columns of the updated DataFrame\n",
    "print(df.columns)\n"
   ]
  },
  {
   "cell_type": "code",
   "execution_count": 42,
   "id": "f0f9fd94",
   "metadata": {},
   "outputs": [
    {
     "name": "stdout",
     "output_type": "stream",
     "text": [
      "LAEI 1km2 ID        0\n",
      "GRID_ExactCut_ID    0\n",
      "Easting_y           0\n",
      "Northing_y          0\n",
      "SO2                 0\n",
      "NMVOC               0\n",
      "NH3                 0\n",
      "CO                  0\n",
      "CH4                 0\n",
      "N2O                 0\n",
      "Cd                  0\n",
      "Hg                  0\n",
      "Pb                  0\n",
      "BaP                 0\n",
      "PCB                 0\n",
      "HCl                 0\n",
      "PM10_cox            0\n",
      "PM10_cox_lag1       0\n",
      "PM10_cox_lag2       0\n",
      "dtype: int64\n"
     ]
    }
   ],
   "source": [
    "# Check for missing values in the DataFrame\n",
    "missing_values = df.isna().sum()\n",
    "\n",
    "# Display the count of missing values for each column\n",
    "print(missing_values)\n"
   ]
  },
  {
   "cell_type": "code",
   "execution_count": null,
   "id": "60b38153",
   "metadata": {},
   "outputs": [],
   "source": []
  },
  {
   "cell_type": "code",
   "execution_count": null,
   "id": "950769ee",
   "metadata": {},
   "outputs": [],
   "source": [
    "# # Forward fill\n",
    "# df.fillna(method='ffill', inplace=True)\n",
    "# df.to_excel('/Users/natashasmith/Desktop/PM10_final_updated.xlsx', index=False)\n"
   ]
  },
  {
   "cell_type": "code",
   "execution_count": null,
   "id": "8dda4d01",
   "metadata": {},
   "outputs": [],
   "source": []
  },
  {
   "cell_type": "markdown",
   "id": "2e105ac5",
   "metadata": {},
   "source": [
    "Putting everything together"
   ]
  },
  {
   "cell_type": "code",
   "execution_count": 44,
   "id": "0c8cd88a",
   "metadata": {},
   "outputs": [
    {
     "name": "stderr",
     "output_type": "stream",
     "text": [
      "/var/folders/33/h5vv9bpj5pn1qwm0r096syj40000gn/T/ipykernel_63703/2510152534.py:40: FutureWarning: The frame.append method is deprecated and will be removed from pandas in a future version. Use pandas.concat instead.\n",
      "  results_df = results_df.append({'Model': model_name, 'RMSE': rmse}, ignore_index=True)\n",
      "/var/folders/33/h5vv9bpj5pn1qwm0r096syj40000gn/T/ipykernel_63703/2510152534.py:40: FutureWarning: The frame.append method is deprecated and will be removed from pandas in a future version. Use pandas.concat instead.\n",
      "  results_df = results_df.append({'Model': model_name, 'RMSE': rmse}, ignore_index=True)\n",
      "/var/folders/33/h5vv9bpj5pn1qwm0r096syj40000gn/T/ipykernel_63703/2510152534.py:40: FutureWarning: The frame.append method is deprecated and will be removed from pandas in a future version. Use pandas.concat instead.\n",
      "  results_df = results_df.append({'Model': model_name, 'RMSE': rmse}, ignore_index=True)\n",
      "/var/folders/33/h5vv9bpj5pn1qwm0r096syj40000gn/T/ipykernel_63703/2510152534.py:40: FutureWarning: The frame.append method is deprecated and will be removed from pandas in a future version. Use pandas.concat instead.\n",
      "  results_df = results_df.append({'Model': model_name, 'RMSE': rmse}, ignore_index=True)\n",
      "/var/folders/33/h5vv9bpj5pn1qwm0r096syj40000gn/T/ipykernel_63703/2510152534.py:40: FutureWarning: The frame.append method is deprecated and will be removed from pandas in a future version. Use pandas.concat instead.\n",
      "  results_df = results_df.append({'Model': model_name, 'RMSE': rmse}, ignore_index=True)\n"
     ]
    },
    {
     "name": "stdout",
     "output_type": "stream",
     "text": [
      "               Model      RMSE\n",
      "0  Linear Regression  0.329979\n",
      "1      Random Forest  0.245891\n",
      "2  Gradient Boosting  0.247571\n",
      "3              Ridge  0.379520\n",
      "4              Lasso  0.382328\n",
      "5            XGBoost  0.258924\n"
     ]
    },
    {
     "name": "stderr",
     "output_type": "stream",
     "text": [
      "/var/folders/33/h5vv9bpj5pn1qwm0r096syj40000gn/T/ipykernel_63703/2510152534.py:40: FutureWarning: The frame.append method is deprecated and will be removed from pandas in a future version. Use pandas.concat instead.\n",
      "  results_df = results_df.append({'Model': model_name, 'RMSE': rmse}, ignore_index=True)\n"
     ]
    }
   ],
   "source": [
    "import pandas as pd\n",
    "import numpy as np\n",
    "import xgboost as xgb\n",
    "from scipy.stats import boxcox\n",
    "from sklearn.model_selection import train_test_split\n",
    "from sklearn.linear_model import LinearRegression, Ridge, Lasso\n",
    "from sklearn.ensemble import RandomForestRegressor, GradientBoostingRegressor\n",
    "from sklearn.metrics import mean_squared_error\n",
    "\n",
    "# Load and preprocess the dataset\n",
    "file_path = '...PM10_final_updated.xlsx'\n",
    "data = pd.read_excel(file_path)\n",
    "\n",
    "\n",
    "# We have transformed PM10 values saved in 'PM10_cox'\n",
    "y = data['PM10_cox']\n",
    "X = data.drop('PM10_cox', axis=1)\n",
    "\n",
    "# Split the data into training and testing sets\n",
    "X_train, X_test, y_train, y_test = train_test_split(X, y, test_size=0.2, random_state=42)\n",
    "\n",
    "# Initialise the models\n",
    "models = {\n",
    "    \"Linear Regression\": LinearRegression(),\n",
    "    \"Random Forest\": RandomForestRegressor(random_state=42),\n",
    "    \"Gradient Boosting\": GradientBoostingRegressor(random_state=42),\n",
    "    \"Ridge\": Ridge(alpha=1.0, random_state=42),\n",
    "    \"Lasso\": Lasso(alpha=0.1, random_state=42),\n",
    "    \"XGBoost\": xgb.XGBRegressor(objective ='reg:squarederror', random_state=42)\n",
    "}\n",
    "\n",
    "# Train the models, make predictions, calculate RMSE, and store results\n",
    "results_df = pd.DataFrame(columns=['Model', 'RMSE'])\n",
    "\n",
    "for model_name, model in models.items():\n",
    "    model.fit(X_train, y_train)\n",
    "    predictions = model.predict(X_test)\n",
    "    rmse = np.sqrt(mean_squared_error(y_test, predictions))\n",
    "    results_df = results_df.append({'Model': model_name, 'RMSE': rmse}, ignore_index=True)\n",
    "\n",
    "# Print the results table\n",
    "print(results_df)\n"
   ]
  },
  {
   "cell_type": "markdown",
   "id": "e9e28fb5",
   "metadata": {},
   "source": [
    "Additng NNs Regressor"
   ]
  },
  {
   "cell_type": "markdown",
   "id": "404b3af3",
   "metadata": {},
   "source": [
    "We next perform further model tuning and cross-validation to optimise the model parameters and assess their performance more robustly. Finally, we compare our results. \n"
   ]
  },
  {
   "cell_type": "code",
   "execution_count": 47,
   "id": "d167527a",
   "metadata": {},
   "outputs": [
    {
     "name": "stderr",
     "output_type": "stream",
     "text": [
      "/var/folders/33/h5vv9bpj5pn1qwm0r096syj40000gn/T/ipykernel_63703/2641158071.py:44: FutureWarning: The frame.append method is deprecated and will be removed from pandas in a future version. Use pandas.concat instead.\n",
      "  results_df = results_df.append({'Model': model_name, 'RMSE': avg_rmse, 'MAE': avg_mae}, ignore_index=True)\n",
      "/var/folders/33/h5vv9bpj5pn1qwm0r096syj40000gn/T/ipykernel_63703/2641158071.py:44: FutureWarning: The frame.append method is deprecated and will be removed from pandas in a future version. Use pandas.concat instead.\n",
      "  results_df = results_df.append({'Model': model_name, 'RMSE': avg_rmse, 'MAE': avg_mae}, ignore_index=True)\n",
      "/var/folders/33/h5vv9bpj5pn1qwm0r096syj40000gn/T/ipykernel_63703/2641158071.py:44: FutureWarning: The frame.append method is deprecated and will be removed from pandas in a future version. Use pandas.concat instead.\n",
      "  results_df = results_df.append({'Model': model_name, 'RMSE': avg_rmse, 'MAE': avg_mae}, ignore_index=True)\n",
      "/var/folders/33/h5vv9bpj5pn1qwm0r096syj40000gn/T/ipykernel_63703/2641158071.py:44: FutureWarning: The frame.append method is deprecated and will be removed from pandas in a future version. Use pandas.concat instead.\n",
      "  results_df = results_df.append({'Model': model_name, 'RMSE': avg_rmse, 'MAE': avg_mae}, ignore_index=True)\n",
      "/var/folders/33/h5vv9bpj5pn1qwm0r096syj40000gn/T/ipykernel_63703/2641158071.py:44: FutureWarning: The frame.append method is deprecated and will be removed from pandas in a future version. Use pandas.concat instead.\n",
      "  results_df = results_df.append({'Model': model_name, 'RMSE': avg_rmse, 'MAE': avg_mae}, ignore_index=True)\n",
      "/var/folders/33/h5vv9bpj5pn1qwm0r096syj40000gn/T/ipykernel_63703/2641158071.py:44: FutureWarning: The frame.append method is deprecated and will be removed from pandas in a future version. Use pandas.concat instead.\n",
      "  results_df = results_df.append({'Model': model_name, 'RMSE': avg_rmse, 'MAE': avg_mae}, ignore_index=True)\n"
     ]
    },
    {
     "name": "stdout",
     "output_type": "stream",
     "text": [
      "                      Model      RMSE       MAE\n",
      "0         Linear Regression  1.067225  0.305496\n",
      "1             Random Forest  0.255806  0.193998\n",
      "2         Gradient Boosting  0.263997  0.198448\n",
      "3                     Ridge  0.394622  0.326558\n",
      "4                     Lasso  0.392976  0.333159\n",
      "5                   XGBoost  0.264377  0.198081\n",
      "6  Neural Network Regressor  0.330178  0.241556\n"
     ]
    },
    {
     "name": "stderr",
     "output_type": "stream",
     "text": [
      "/var/folders/33/h5vv9bpj5pn1qwm0r096syj40000gn/T/ipykernel_63703/2641158071.py:71: FutureWarning: The frame.append method is deprecated and will be removed from pandas in a future version. Use pandas.concat instead.\n",
      "  results_df = results_df.append({\n"
     ]
    }
   ],
   "source": [
    "import pandas as pd\n",
    "import numpy as np\n",
    "import xgboost as xgb\n",
    "from sklearn.preprocessing import StandardScaler\n",
    "from sklearn.model_selection import train_test_split, GridSearchCV, cross_val_score\n",
    "from sklearn.linear_model import LinearRegression, Ridge, Lasso\n",
    "from sklearn.ensemble import RandomForestRegressor, GradientBoostingRegressor\n",
    "from sklearn.neural_network import MLPRegressor\n",
    "from sklearn.metrics import mean_squared_error, mean_absolute_error\n",
    "\n",
    "\n",
    "\n",
    "# Initialise the models\n",
    "models = {\n",
    "    \"Linear Regression\": LinearRegression(),\n",
    "    \"Random Forest\": RandomForestRegressor(random_state=42),\n",
    "    \"Gradient Boosting\": GradientBoostingRegressor(random_state=42),\n",
    "    \"Ridge\": Ridge(alpha=1.0, random_state=42),\n",
    "    \"Lasso\": Lasso(alpha=0.1, random_state=42),\n",
    "    \"XGBoost\": xgb.XGBRegressor(objective ='reg:squarederror', random_state=42)\n",
    "}\n",
    "\n",
    "# Initialise results DataFrame\n",
    "results_df = pd.DataFrame(columns=['Model', 'RMSE', 'MAE'])\n",
    "\n",
    "# Perform cross-validation and store results\n",
    "for model_name, model in models.items():\n",
    "    # Calculate cross-validated RMSE\n",
    "    neg_mse_scores = cross_val_score(model, X, y, cv=5, scoring='neg_mean_squared_error')\n",
    "    rmse_scores = np.sqrt(-neg_mse_scores)\n",
    "    avg_rmse = np.mean(rmse_scores)\n",
    "\n",
    "    # Calculate cross-validated MAE\n",
    "    mae_scores = -cross_val_score(model, X, y, cv=5, scoring='neg_mean_absolute_error')\n",
    "    avg_mae = np.mean(mae_scores)\n",
    "\n",
    "    # Append results to the DataFrame\n",
    "    results_df = results_df.append({'Model': model_name, 'RMSE': avg_rmse, 'MAE': avg_mae}, ignore_index=True)\n",
    "\n",
    "# Hyperparameter grid for NN\n",
    "param_grid = {\n",
    "    'hidden_layer_sizes': [(100,), (100, 50)],\n",
    "    'activation': ['relu', 'tanh'],\n",
    "    'learning_rate_init': [0.001, 0.01],\n",
    "}\n",
    "\n",
    "# Initialise the NN Regressor model\n",
    "nn_model = MLPRegressor(max_iter=2000, random_state=42)\n",
    "\n",
    "# Scale the features\n",
    "scaler = StandardScaler()\n",
    "X_scaled = scaler.fit_transform(X)\n",
    "\n",
    "# Perform Grid Search for NN\n",
    "grid_search = GridSearchCV(nn_model, param_grid, cv=5, scoring='neg_mean_squared_error')\n",
    "grid_search.fit(X_scaled, y)\n",
    "best_nn_model = grid_search.best_estimator_\n",
    "\n",
    "# Compute RMSE and MAE for NN model and add it to the results DataFrame\n",
    "nn_rmse = np.sqrt(-grid_search.best_score_)\n",
    "nn_mae_scores = -cross_val_score(best_nn_model, X_scaled, y, cv=5, scoring='neg_mean_absolute_error')\n",
    "nn_avg_mae = np.mean(nn_mae_scores)\n",
    "\n",
    "# Append the NN results to the results DataFrame\n",
    "results_df = results_df.append({\n",
    "    'Model': 'Neural Network Regressor',\n",
    "    'RMSE': nn_rmse,\n",
    "    'MAE': nn_avg_mae\n",
    "}, ignore_index=True)\n",
    "\n",
    "# Print the updated results table\n",
    "print(results_df)\n"
   ]
  },
  {
   "cell_type": "code",
   "execution_count": null,
   "id": "0266f2bf",
   "metadata": {},
   "outputs": [],
   "source": []
  },
  {
   "cell_type": "code",
   "execution_count": null,
   "id": "9ab59d79",
   "metadata": {},
   "outputs": [],
   "source": []
  },
  {
   "cell_type": "code",
   "execution_count": null,
   "id": "8408f672",
   "metadata": {},
   "outputs": [],
   "source": []
  }
 ],
 "metadata": {
  "kernelspec": {
   "display_name": "Python 3 (ipykernel)",
   "language": "python",
   "name": "python3"
  },
  "language_info": {
   "codemirror_mode": {
    "name": "ipython",
    "version": 3
   },
   "file_extension": ".py",
   "mimetype": "text/x-python",
   "name": "python",
   "nbconvert_exporter": "python",
   "pygments_lexer": "ipython3",
   "version": "3.9.12"
  }
 },
 "nbformat": 4,
 "nbformat_minor": 5
}
